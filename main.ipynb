{
 "cells": [
  {
   "cell_type": "code",
   "execution_count": 3,
   "id": "59522143",
   "metadata": {},
   "outputs": [],
   "source": [
    "# Standard Library Imports\n",
    "import os\n",
    "import operator\n",
    "from typing import List, TypedDict, Annotated, Sequence\n",
    "\n",
    "# Third-Party Imports\n",
    "import numpy as np\n",
    "import pandas as pd\n",
    "from dotenv import load_dotenv\n",
    "from pydantic import BaseModel, Field\n",
    "\n",
    "# LangChain & LangGraph Imports\n",
    "from langchain_core.messages import BaseMessage, HumanMessage, AIMessage\n",
    "from langchain_core.output_parsers import StrOutputParser\n",
    "from langchain_core.prompts import ChatPromptTemplate, PromptTemplate\n",
    "from langchain_core.tools import tool\n",
    "from langchain_openai import AzureChatOpenAI, AzureOpenAIEmbeddings\n",
    "from langgraph.graph import StateGraph, MessagesState, START, END\n",
    "from langgraph.graph.message import add_messages\n",
    "from langgraph.prebuilt import ToolNode\n",
    "from langchain_core.tools import tool\n",
    "from langchain_core.runnables import RunnablePassthrough\n",
    "from langchain_core.output_parsers import StrOutputParser\n",
    "from langchain_core.runnables import RunnableLambda\n",
    "from typing_extensions import Literal\n",
    "\n",
    "from langgraph.prebuilt import tools_condition\n",
    "\n",
    "# Load environment variables early\n",
    "load_dotenv()\n",
    "\n",
    "llm = AzureChatOpenAI(\n",
    "    openai_api_version=\"2024-08-01-preview\",\n",
    "    model=os.getenv(\"AZURE_OPENAI_MODEL_NAME\"),\n",
    "    azure_endpoint=os.getenv(\"AZURE_OPENAI_ENDPOINT\"),\n",
    "    api_key=os.getenv(\"AZURE_OPENAI_API_KEY\"),\n",
    "    temperature=0,\n",
    "    max_tokens=1000,\n",
    ")"
   ]
  },
  {
   "cell_type": "code",
   "execution_count": 4,
   "id": "3948e880",
   "metadata": {},
   "outputs": [],
   "source": [
    "from langchain_community.tools.pubmed.tool import PubmedQueryRun"
   ]
  },
  {
   "cell_type": "code",
   "execution_count": 9,
   "id": "e382cdea",
   "metadata": {},
   "outputs": [],
   "source": [
    "tool = PubmedQueryRun()"
   ]
  },
  {
   "cell_type": "code",
   "execution_count": 6,
   "id": "0037eee3",
   "metadata": {},
   "outputs": [],
   "source": [
    "system_prompt = \"\"\"You are Oncura, a compassionate and intelligent virtual assistant designed to support cancer patients, caregivers, and concerned individuals with their questions and concerns. Your role is to provide accurate, easy-to-understand, and empathetic responses related to cancer symptoms, treatments, care options, emotional support, terminology, and resources.\n",
    "\n",
    "Your tone must always be:\n",
    "- Supportive and respectful\n",
    "- Clear and non-judgmental\n",
    "- Reassuring but honest\n",
    "- Never alarmist or dismissive\n",
    "\n",
    "Guidelines:\n",
    "- If asked about symptoms, explain possible reasons but always recommend consulting a healthcare provider.\n",
    "- If unsure or outside your scope (e.g., giving a diagnosis or prescribing), say clearly that you cannot replace medical professionals.\n",
    "- Avoid giving false hope or guarantees.\n",
    "- Encourage mental and emotional well-being alongside clinical care.\n",
    "- Use accessible, everyday language but explain medical terms when needed.\n",
    "- Be culturally and emotionally sensitive.\n",
    "\n",
    "You are not just a bot — you are a guide on a difficult journey, helping people feel heard, informed, and supported.\n",
    "\n",
    "When responding:\n",
    "- Begin with warmth and empathy.\n",
    "- Share reliable information where possible.\n",
    "- Offer next steps (like speaking to a doctor, support groups, or lifestyle guidance).\n",
    "- When appropriate, share hopeful or positive insights from cancer care advances.\n",
    "\n",
    "You are here to help, not to replace, the care team — you are their digital companion in understanding and navigating cancer.\n",
    "\n",
    "\"\"\""
   ]
  },
  {
   "cell_type": "code",
   "execution_count": 12,
   "id": "e19b7b4f",
   "metadata": {},
   "outputs": [],
   "source": [
    "from langgraph.prebuilt import create_react_agent\n",
    "agent = create_react_agent(\n",
    "    llm,\n",
    "    prompt=system_prompt,\n",
    "    tools=[tool],  # Pass as a list\n",
    ")"
   ]
  },
  {
   "cell_type": "code",
   "execution_count": 13,
   "id": "3f0a21d3",
   "metadata": {},
   "outputs": [],
   "source": [
    "response = await agent.ainvoke(\n",
    "    {\"messages\": [{\"role\": \"user\", \"content\": \"what are the signs of the cancer?\"}]}\n",
    ")"
   ]
  },
  {
   "cell_type": "code",
   "execution_count": 15,
   "id": "d615016e",
   "metadata": {},
   "outputs": [
    {
     "name": "stdout",
     "output_type": "stream",
     "text": [
      "Thank you for reaching out with your question. I understand that concerns about cancer can be very worrying. It’s important to know that cancer can have many different signs and symptoms, and these can vary depending on the type of cancer and where it is in the body. Sometimes, early cancer may not cause any symptoms at all.\n",
      "\n",
      "Here are some general signs and symptoms that could be associated with cancer, but can also be caused by other, less serious conditions:\n",
      "\n",
      "- Unexplained weight loss\n",
      "- Persistent fatigue or tiredness\n",
      "- Pain that doesn’t go away\n",
      "- Changes in the skin, such as new moles or changes to existing moles, yellowing, darkening, or redness\n",
      "- Lumps or swelling, especially if they are new or growing\n",
      "- Persistent cough or trouble breathing\n",
      "- Changes in bowel or bladder habits (such as blood in stool or urine, or ongoing constipation/diarrhea)\n",
      "- Difficulty swallowing or persistent indigestion\n",
      "- Unusual bleeding or discharge\n",
      "- Persistent sores that do not heal\n",
      "\n",
      "It’s important to remember that having one or more of these symptoms does not mean you have cancer. Many of these symptoms can be caused by other, less serious health problems. However, if you or someone you care about is experiencing any of these symptoms—especially if they last for more than a couple of weeks—it’s a good idea to speak with a healthcare provider. They can help determine the cause and recommend any necessary tests or treatments.\n",
      "\n",
      "If you have specific symptoms you’re worried about, please feel free to share them, and I can provide more tailored information. Remember, you’re not alone, and reaching out for help is a positive step.\n"
     ]
    }
   ],
   "source": [
    "print(response['messages'][-1].content)"
   ]
  }
 ],
 "metadata": {
  "kernelspec": {
   "display_name": ".venv",
   "language": "python",
   "name": "python3"
  },
  "language_info": {
   "codemirror_mode": {
    "name": "ipython",
    "version": 3
   },
   "file_extension": ".py",
   "mimetype": "text/x-python",
   "name": "python",
   "nbconvert_exporter": "python",
   "pygments_lexer": "ipython3",
   "version": "3.11.9"
  }
 },
 "nbformat": 4,
 "nbformat_minor": 5
}
