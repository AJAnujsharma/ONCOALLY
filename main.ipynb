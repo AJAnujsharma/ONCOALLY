{
 "cells": [
  {
   "cell_type": "code",
   "execution_count": null,
   "id": "59522143",
   "metadata": {},
   "outputs": [],
   "source": [
    "# Standard Library Imports\n",
    "import os\n",
    "import operator\n",
    "from typing import List, TypedDict, Annotated, Sequence\n",
    "\n",
    "# Third-Party Imports\n",
    "import numpy as np\n",
    "import pandas as pd\n",
    "from dotenv import load_dotenv\n",
    "from pydantic import BaseModel, Field\n",
    "\n",
    "# LangChain & LangGraph Imports\n",
    "from langchain_core.messages import BaseMessage, HumanMessage, AIMessage\n",
    "from langchain_core.output_parsers import StrOutputParser\n",
    "from langchain_core.prompts import ChatPromptTemplate, PromptTemplate\n",
    "from langchain_core.tools import tool\n",
    "from langchain_openai import AzureChatOpenAI, AzureOpenAIEmbeddings\n",
    "from langgraph.graph import StateGraph, MessagesState, START, END\n",
    "from langgraph.graph.message import add_messages\n",
    "from langgraph.prebuilt import ToolNode\n",
    "from langchain_core.tools import tool\n",
    "from langchain_core.runnables import RunnablePassthrough\n",
    "from langchain_core.output_parsers import StrOutputParser\n",
    "from langchain_core.runnables import RunnableLambda\n",
    "from typing_extensions import Literal\n",
    "\n",
    "from langgraph.prebuilt import tools_condition\n",
    "\n",
    "# Load environment variables early\n",
    "load_dotenv()\n",
    "\n",
    "llm = AzureChatOpenAI(\n",
    "    openai_api_version=\"2024-08-01-preview\",\n",
    "    model=os.getenv(\"AZURE_OPENAI_MODEL_NAME\"),\n",
    "    azure_endpoint=os.getenv(\"AZURE_OPENAI_ENDPOINT\"),\n",
    "    api_key=os.getenv(\"AZURE_OPENAI_API_KEY\"),\n",
    "    temperature=0,\n",
    "    max_tokens=1000,\n",
    ")"
   ]
  },
  {
   "cell_type": "code",
   "execution_count": null,
   "id": "3948e880",
   "metadata": {},
   "outputs": [],
   "source": [
    "from langchain_community.tools.pubmed.tool import PubmedQueryRun"
   ]
  },
  {
   "cell_type": "code",
   "execution_count": null,
   "id": "e382cdea",
   "metadata": {},
   "outputs": [],
   "source": [
    "tool = PubmedQueryRun()"
   ]
  },
  {
   "cell_type": "code",
   "execution_count": null,
   "id": "0037eee3",
   "metadata": {},
   "outputs": [],
   "source": [
    "system_prompt = \"\"\"You are Oncura, a compassionate and intelligent virtual assistant designed to support cancer patients, caregivers, and concerned individuals with their questions and concerns. Your role is to provide accurate, easy-to-understand, and empathetic responses related to cancer symptoms, treatments, care options, emotional support, terminology, and resources.\n",
    "\n",
    "Your tone must always be:\n",
    "- Supportive and respectful\n",
    "- Clear and non-judgmental\n",
    "- Reassuring but honest\n",
    "- Never alarmist or dismissive\n",
    "\n",
    "Guidelines:\n",
    "- If asked about symptoms, explain possible reasons but always recommend consulting a healthcare provider.\n",
    "- If unsure or outside your scope (e.g., giving a diagnosis or prescribing), say clearly that you cannot replace medical professionals.\n",
    "- Avoid giving false hope or guarantees.\n",
    "- Encourage mental and emotional well-being alongside clinical care.\n",
    "- Use accessible, everyday language but explain medical terms when needed.\n",
    "- Be culturally and emotionally sensitive.\n",
    "\n",
    "You are not just a bot — you are a guide on a difficult journey, helping people feel heard, informed, and supported.\n",
    "\n",
    "When responding:\n",
    "- Begin with warmth and empathy.\n",
    "- Share reliable information where possible.\n",
    "- Offer next steps (like speaking to a doctor, support groups, or lifestyle guidance).\n",
    "- When appropriate, share hopeful or positive insights from cancer care advances.\n",
    "\n",
    "You are here to help, not to replace, the care team — you are their digital companion in understanding and navigating cancer.\n",
    "\n",
    "\"\"\""
   ]
  },
  {
   "cell_type": "code",
   "execution_count": null,
   "id": "e19b7b4f",
   "metadata": {},
   "outputs": [],
   "source": [
    "from langgraph.prebuilt import create_react_agent\n",
    "agent = create_react_agent(\n",
    "    llm,\n",
    "    prompt=system_prompt,\n",
    "    tools=[tool],  # Pass as a list\n",
    ")"
   ]
  },
  {
   "cell_type": "code",
   "execution_count": 1,
   "id": "d97c8991",
   "metadata": {},
   "outputs": [],
   "source": [
    "from agent_utils import *\n",
    "# from prompt_config import PROMPT_CONFIG"
   ]
  },
  {
   "cell_type": "code",
   "execution_count": 2,
   "id": "3f0a21d3",
   "metadata": {},
   "outputs": [
    {
     "ename": "ValueError",
     "evalue": "Prompt missing required variables: {'tool_names'}",
     "output_type": "error",
     "traceback": [
      "\u001b[31m---------------------------------------------------------------------------\u001b[39m",
      "\u001b[31mValueError\u001b[39m                                Traceback (most recent call last)",
      "\u001b[36mCell\u001b[39m\u001b[36m \u001b[39m\u001b[32mIn[2]\u001b[39m\u001b[32m, line 2\u001b[39m\n\u001b[32m      1\u001b[39m \u001b[38;5;28;01mfrom\u001b[39;00m\u001b[38;5;250m \u001b[39m\u001b[34;01mlangchain\u001b[39;00m\u001b[34;01m.\u001b[39;00m\u001b[34;01mprompts\u001b[39;00m\u001b[38;5;250m \u001b[39m\u001b[38;5;28;01mimport\u001b[39;00m PromptTemplate\n\u001b[32m----> \u001b[39m\u001b[32m2\u001b[39m agent = \u001b[43mget_agent\u001b[49m\u001b[43m(\u001b[49m\u001b[43m)\u001b[49m\n",
      "\u001b[36mFile \u001b[39m\u001b[32mc:\\Users\\sharmaanuj\\Downloads\\OncoAlly\\agent_utils.py:41\u001b[39m, in \u001b[36mget_agent\u001b[39m\u001b[34m(llm, system_prompt)\u001b[39m\n\u001b[32m     38\u001b[39m tools = [pubmed_tool]\n\u001b[32m     40\u001b[39m \u001b[38;5;66;03m# ✅ Pass PromptTemplate instead of string\u001b[39;00m\n\u001b[32m---> \u001b[39m\u001b[32m41\u001b[39m agent = \u001b[43mcreate_react_agent\u001b[49m\u001b[43m(\u001b[49m\n\u001b[32m     42\u001b[39m \u001b[43m    \u001b[49m\u001b[43mllm\u001b[49m\u001b[43m=\u001b[49m\u001b[43mllm\u001b[49m\u001b[43m,\u001b[49m\n\u001b[32m     43\u001b[39m \u001b[43m    \u001b[49m\u001b[43mtools\u001b[49m\u001b[43m=\u001b[49m\u001b[43mtools\u001b[49m\u001b[43m,\u001b[49m\n\u001b[32m     44\u001b[39m \u001b[43m    \u001b[49m\u001b[43mprompt\u001b[49m\u001b[43m=\u001b[49m\u001b[43mprompt\u001b[49m\n\u001b[32m     45\u001b[39m \u001b[43m\u001b[49m\u001b[43m)\u001b[49m\n\u001b[32m     47\u001b[39m \u001b[38;5;28;01mreturn\u001b[39;00m AgentExecutor(agent=agent, tools=tools, verbose=\u001b[38;5;28;01mTrue\u001b[39;00m)\n",
      "\u001b[36mFile \u001b[39m\u001b[32mc:\\Users\\sharmaanuj\\Downloads\\OncoAlly\\.venv\\Lib\\site-packages\\langchain\\agents\\react\\agent.py:125\u001b[39m, in \u001b[36mcreate_react_agent\u001b[39m\u001b[34m(llm, tools, prompt, output_parser, tools_renderer, stop_sequence)\u001b[39m\n\u001b[32m    123\u001b[39m \u001b[38;5;28;01mif\u001b[39;00m missing_vars:\n\u001b[32m    124\u001b[39m     msg = \u001b[33mf\u001b[39m\u001b[33m\"\u001b[39m\u001b[33mPrompt missing required variables: \u001b[39m\u001b[38;5;132;01m{\u001b[39;00mmissing_vars\u001b[38;5;132;01m}\u001b[39;00m\u001b[33m\"\u001b[39m\n\u001b[32m--> \u001b[39m\u001b[32m125\u001b[39m     \u001b[38;5;28;01mraise\u001b[39;00m \u001b[38;5;167;01mValueError\u001b[39;00m(msg)\n\u001b[32m    127\u001b[39m prompt = prompt.partial(\n\u001b[32m    128\u001b[39m     tools=tools_renderer(\u001b[38;5;28mlist\u001b[39m(tools)),\n\u001b[32m    129\u001b[39m     tool_names=\u001b[33m\"\u001b[39m\u001b[33m, \u001b[39m\u001b[33m\"\u001b[39m.join([t.name \u001b[38;5;28;01mfor\u001b[39;00m t \u001b[38;5;129;01min\u001b[39;00m tools]),\n\u001b[32m    130\u001b[39m )\n\u001b[32m    131\u001b[39m \u001b[38;5;28;01mif\u001b[39;00m stop_sequence:\n",
      "\u001b[31mValueError\u001b[39m: Prompt missing required variables: {'tool_names'}"
     ]
    }
   ],
   "source": [
    "from langchain.prompts import PromptTemplate\n",
    "agent = get_agent()"
   ]
  },
  {
   "cell_type": "code",
   "execution_count": null,
   "id": "01c651ab",
   "metadata": {},
   "outputs": [],
   "source": [
    "\n",
    "response = agent.invoke({\"input\": question})\n",
    "response"
   ]
  },
  {
   "cell_type": "code",
   "execution_count": null,
   "id": "e971c2d4",
   "metadata": {},
   "outputs": [],
   "source": [
    "# app.py\n",
    "import asyncio\n",
    "import nest_asyncio\n",
    "nest_asyncio.apply()\n",
    "\n",
    "response = asyncio.run(ask_question(\"what are the main caused for cancer?\"))\n"
   ]
  },
  {
   "cell_type": "code",
   "execution_count": null,
   "id": "66201f50",
   "metadata": {},
   "outputs": [],
   "source": [
    "response"
   ]
  },
  {
   "cell_type": "code",
   "execution_count": null,
   "id": "ede3473d",
   "metadata": {},
   "outputs": [],
   "source": [
    "answer = response[\"messages\"][-1].content if \"messages\" in response and response[\"messages\"] else \"Sorry, I couldn't find an answer.\""
   ]
  },
  {
   "cell_type": "code",
   "execution_count": null,
   "id": "d615016e",
   "metadata": {},
   "outputs": [],
   "source": [
    "print(answer)"
   ]
  }
 ],
 "metadata": {
  "kernelspec": {
   "display_name": ".venv",
   "language": "python",
   "name": "python3"
  },
  "language_info": {
   "codemirror_mode": {
    "name": "ipython",
    "version": 3
   },
   "file_extension": ".py",
   "mimetype": "text/x-python",
   "name": "python",
   "nbconvert_exporter": "python",
   "pygments_lexer": "ipython3",
   "version": "3.11.9"
  }
 },
 "nbformat": 4,
 "nbformat_minor": 5
}
